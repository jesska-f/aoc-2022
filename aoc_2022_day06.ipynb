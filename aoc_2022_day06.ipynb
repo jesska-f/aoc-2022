{
 "cells": [
  {
   "cell_type": "markdown",
   "id": "dd89d26e-159c-4276-a4fe-05b79cb49616",
   "metadata": {},
   "source": [
    "# Day 6: Tuning Trouble"
   ]
  },
  {
   "cell_type": "markdown",
   "id": "54120341-9469-4331-9fcb-31a8dbc0e067",
   "metadata": {},
   "source": [
    "The preparations are finally complete; you and the Elves leave camp on foot and begin to make your way toward the star fruit grove.\n",
    "\n",
    "As you move through the dense undergrowth, one of the Elves gives you a handheld device. He says that it has many fancy features, but the most important one to set up right now is the communication system.\n",
    "\n",
    "However, because he's heard you have significant experience dealing with signal-based systems, he convinced the other Elves that it would be okay to give you their one malfunctioning device - surely you'll have no problem fixing it.\n",
    "\n",
    "As if inspired by comedic timing, the device emits a few colorful sparks.\n",
    "\n",
    "To be able to communicate with the Elves, the device needs to lock on to their signal. The signal is a series of seemingly-random characters that the device receives one at a time.\n",
    "\n",
    "To fix the communication system, you need to add a subroutine to the device that detects a start-of-packet marker in the datastream. In the protocol being used by the Elves, the start of a packet is indicated by a sequence of four characters that are all different.\n",
    "\n",
    "The device will send your subroutine a datastream buffer (your puzzle input); your subroutine needs to identify the first position where the four most recently received characters were all different. Specifically, it needs to report the number of characters from the beginning of the buffer to the end of the first such four-character marker.\n",
    "\n",
    "For example, suppose you receive the following datastream buffer:\n",
    "\n",
    "mjqjpqmgbljsphdztnvjfqwrcgsmlb\n",
    "After the first three characters (mjq) have been received, there haven't been enough characters received yet to find the marker. The first time a marker could occur is after the fourth character is received, making the most recent four characters mjqj. Because j is repeated, this isn't a marker.\n",
    "\n",
    "The first time a marker appears is after the seventh character arrives. Once it does, the last four characters received are jpqm, which are all different. In this case, your subroutine should report the value 7, because the first start-of-packet marker is complete after 7 characters have been processed.\n",
    "\n",
    "Here are a few more examples:\n",
    "\n",
    "bvwbjplbgvbhsrlpgdmjqwftvncz: first marker after character 5\n",
    "nppdvjthqldpwncqszvftbrmjlhg: first marker after character 6\n",
    "nznrnfrfntjfmvfwmzdfjlvtqnbhcprsg: first marker after character 10\n",
    "zcfzfwzzqfrljwzlrfnpqdbhtmscgvjw: first marker after character 11\n",
    "How many characters need to be processed before the first start-of-packet marker is detected?"
   ]
  },
  {
   "cell_type": "code",
   "execution_count": 1,
   "id": "42195fb8-3d1b-40fa-8a28-a22610f51202",
   "metadata": {},
   "outputs": [],
   "source": [
    "with open('inputs/aoc_day6_input.txt') as f:\n",
    "    data = f.read().replace('\\n','')"
   ]
  },
  {
   "cell_type": "code",
   "execution_count": 2,
   "id": "cfa6084f-4c55-48fe-8dfb-a3fcc6c30542",
   "metadata": {},
   "outputs": [
    {
     "data": {
      "text/plain": [
       "1538"
      ]
     },
     "execution_count": 2,
     "metadata": {},
     "output_type": "execute_result"
    }
   ],
   "source": [
    "seen = []\n",
    "count = 0\n",
    "new_start = []\n",
    "for a in data:\n",
    "    count += 1\n",
    "    if a not in seen:\n",
    "        seen.append(a)\n",
    "    elif a in seen:\n",
    "        seen = seen[seen.index(a)+1:]\n",
    "        seen.append(a)\n",
    "    if len(seen) == 4:\n",
    "        new_start.append(count)\n",
    "new_start[0]      "
   ]
  },
  {
   "cell_type": "markdown",
   "id": "f667191f-4441-4b42-b3a6-912b4a584467",
   "metadata": {},
   "source": [
    "### --- Part Two ---\n",
    "Your device's communication system is correctly detecting packets, but still isn't working. It looks like it also needs to look for messages.\n",
    "\n",
    "A start-of-message marker is just like a start-of-packet marker, except it consists of 14 distinct characters rather than 4.\n",
    "\n",
    "Here are the first positions of start-of-message markers for all of the above examples:\n",
    "\n",
    "mjqjpqmgbljsphdztnvjfqwrcgsmlb: first marker after character 19\n",
    "bvwbjplbgvbhsrlpgdmjqwftvncz: first marker after character 23\n",
    "nppdvjthqldpwncqszvftbrmjlhg: first marker after character 23\n",
    "nznrnfrfntjfmvfwmzdfjlvtqnbhcprsg: first marker after character 29\n",
    "zcfzfwzzqfrljwzlrfnpqdbhtmscgvjw: first marker after character 26\n",
    "How many characters need to be processed before the first start-of-message marker is detected?\n",
    "\n"
   ]
  },
  {
   "cell_type": "code",
   "execution_count": 3,
   "id": "f1b32c25-cdf6-4cf1-a3de-1bc9c35b2653",
   "metadata": {},
   "outputs": [
    {
     "data": {
      "text/plain": [
       "2315"
      ]
     },
     "execution_count": 3,
     "metadata": {},
     "output_type": "execute_result"
    }
   ],
   "source": [
    "seen = []\n",
    "count = 0\n",
    "new_start = []\n",
    "for a in data:\n",
    "    count += 1\n",
    "    if a not in seen:\n",
    "        seen.append(a)\n",
    "    elif a in seen:\n",
    "        seen = seen[seen.index(a)+1:]\n",
    "        seen.append(a)\n",
    "    if len(seen) == 14:\n",
    "        new_start.append(count)\n",
    "new_start[0] "
   ]
  }
 ],
 "metadata": {
  "kernelspec": {
   "display_name": "Python 3 (ipykernel)",
   "language": "python",
   "name": "python3"
  },
  "language_info": {
   "codemirror_mode": {
    "name": "ipython",
    "version": 3
   },
   "file_extension": ".py",
   "mimetype": "text/x-python",
   "name": "python",
   "nbconvert_exporter": "python",
   "pygments_lexer": "ipython3",
   "version": "3.9.13"
  }
 },
 "nbformat": 4,
 "nbformat_minor": 5
}
