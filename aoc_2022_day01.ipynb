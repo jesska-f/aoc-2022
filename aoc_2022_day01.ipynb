{
 "cells": [
  {
   "cell_type": "markdown",
   "id": "68261f37-b8b2-4c81-8c5f-5ce1855116bb",
   "metadata": {
    "tags": []
   },
   "source": [
    "# Day 1: Calorie Counting <a name=\"day1\"></a>"
   ]
  },
  {
   "cell_type": "markdown",
   "id": "a746689d-ad9d-4c87-96f1-70fb74ca05b4",
   "metadata": {
    "tags": []
   },
   "source": [
    "Santa's reindeer typically eat regular reindeer food, but they need a lot of magical energy to deliver presents on Christmas. For that, their favorite snack is a special type of star fruit that only grows deep in the jungle. The Elves have brought you on their annual expedition to the grove where the fruit grows.\n",
    "\n",
    "To supply enough magical energy, the expedition needs to retrieve a minimum of fifty stars by December 25th. Although the Elves assure you that the grove has plenty of fruit, you decide to grab any fruit you see along the way, just in case.\n",
    "\n",
    "Collect stars by solving puzzles. Two puzzles will be made available on each day in the Advent calendar; the second puzzle is unlocked when you complete the first. Each puzzle grants one star. Good luck!\n",
    "\n",
    "The jungle must be too overgrown and difficult to navigate in vehicles or access from the air; the Elves' expedition traditionally goes on foot. As your boats approach land, the Elves begin taking inventory of their supplies. One important consideration is food - in particular, the number of Calories each Elf is carrying (your puzzle input).\n",
    "\n",
    "The Elves take turns writing down the number of Calories contained by the various meals, snacks, rations, etc. that they've brought with them, one item per line. Each Elf separates their own inventory from the previous Elf's inventory (if any) by a blank line.\n",
    "\n",
    "For example, suppose the Elves finish writing their items' Calories and end up with the following list:\n",
    "\n",
    "1000\n",
    "2000\n",
    "3000\n",
    "\n",
    "4000\n",
    "\n",
    "5000\n",
    "6000\n",
    "\n",
    "7000\n",
    "8000\n",
    "9000\n",
    "\n",
    "10000\n",
    "This list represents the Calories of the food carried by five Elves:\n",
    "\n",
    "The first Elf is carrying food with 1000, 2000, and 3000 Calories, a total of 6000 Calories.\n",
    "The second Elf is carrying one food item with 4000 Calories.\n",
    "The third Elf is carrying food with 5000 and 6000 Calories, a total of 11000 Calories.\n",
    "The fourth Elf is carrying food with 7000, 8000, and 9000 Calories, a total of 24000 Calories.\n",
    "The fifth Elf is carrying one food item with 10000 Calories.\n",
    "In case the Elves get hungry and need extra snacks, they need to know which Elf to ask: they'd like to know how many Calories are being carried by the Elf carrying the most Calories. In the example above, this is 24000 (carried by the fourth Elf).\n",
    "\n",
    "Find the Elf carrying the most Calories. How many total Calories is that Elf carrying?"
   ]
  },
  {
   "cell_type": "code",
   "execution_count": 1,
   "id": "b3ba6ec9-5e7d-4555-ac9d-1e06166d2724",
   "metadata": {},
   "outputs": [
    {
     "name": "stdout",
     "output_type": "stream",
     "text": [
      "Elf  159  is carrying  75501 calories\n"
     ]
    }
   ],
   "source": [
    "with open('inputs/aoc_day1_input.txt') as f:\n",
    "    lines = f.readlines()\n",
    "\n",
    "elfs_calories = []\n",
    "calories = 0\n",
    "for i,line in enumerate(lines):\n",
    "        if line != '\\n':\n",
    "            calories += int(line)\n",
    "        elif line == '\\n' or  i == len(lines)-1:\n",
    "            elfs_calories.append(calories)\n",
    "            calories = 0\n",
    "\n",
    "print('Elf ', elfs_calories.index(max(elfs_calories)), ' is carrying ', max(elfs_calories), 'calories')        "
   ]
  },
  {
   "cell_type": "markdown",
   "id": "6ac605e9-2e8c-43f1-b07a-42bde92f1d2a",
   "metadata": {
    "tags": []
   },
   "source": [
    "### --- Part Two ---\n",
    "By the time you calculate the answer to the Elves' question, they've already realized that the Elf carrying the most Calories of food might eventually run out of snacks.\n",
    "\n",
    "To avoid this unacceptable situation, the Elves would instead like to know the total Calories carried by the top three Elves carrying the most Calories. That way, even if one of those Elves runs out of snacks, they still have two backups.\n",
    "\n",
    "In the example above, the top three Elves are the fourth Elf (with 24000 Calories), then the third Elf (with 11000 Calories), then the fifth Elf (with 10000 Calories). The sum of the Calories carried by these three elves is 45000.\n",
    "\n",
    "Find the top three Elves carrying the most Calories. How many Calories are those Elves carrying in total?"
   ]
  },
  {
   "cell_type": "code",
   "execution_count": 2,
   "id": "a3010929-783d-4c95-99e2-47900aedd0fb",
   "metadata": {},
   "outputs": [
    {
     "name": "stdout",
     "output_type": "stream",
     "text": [
      "215594\n",
      "1st = 75501 at 159\n",
      "2nd = 70096 at 128\n",
      "3rd = 69997 at 179\n"
     ]
    }
   ],
   "source": [
    "theset = frozenset(elfs_calories)\n",
    "theset = sorted(theset, reverse=True)\n",
    "print(sum(theset[:3]))\n",
    "print('1st = ' + str(theset[0]) + ' at ' + str(elfs_calories.index(theset[0])))\n",
    "print('2nd = ' + str(theset[1]) + ' at ' + str(elfs_calories.index(theset[1])))\n",
    "print('3rd = ' + str(theset[2]) + ' at ' + str(elfs_calories.index(theset[2])))"
   ]
  },
  {
   "cell_type": "code",
   "execution_count": 3,
   "id": "fbe562bb-9247-46dd-ba61-8862a725b1bb",
   "metadata": {},
   "outputs": [
    {
     "data": {
      "text/plain": [
       "215594"
      ]
     },
     "execution_count": 3,
     "metadata": {},
     "output_type": "execute_result"
    }
   ],
   "source": [
    "sum(sorted(elfs_calories, reverse=True)[0:3])"
   ]
  }
 ],
 "metadata": {
  "kernelspec": {
   "display_name": "Python 3 (ipykernel)",
   "language": "python",
   "name": "python3"
  },
  "language_info": {
   "codemirror_mode": {
    "name": "ipython",
    "version": 3
   },
   "file_extension": ".py",
   "mimetype": "text/x-python",
   "name": "python",
   "nbconvert_exporter": "python",
   "pygments_lexer": "ipython3",
   "version": "3.9.13"
  }
 },
 "nbformat": 4,
 "nbformat_minor": 5
}
