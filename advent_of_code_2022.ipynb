{
 "cells": [
  {
   "cell_type": "markdown",
   "id": "68261f37-b8b2-4c81-8c5f-5ce1855116bb",
   "metadata": {
    "tags": []
   },
   "source": [
    "# Day 1"
   ]
  },
  {
   "cell_type": "code",
   "execution_count": 1,
   "id": "b3ba6ec9-5e7d-4555-ac9d-1e06166d2724",
   "metadata": {},
   "outputs": [
    {
     "name": "stdout",
     "output_type": "stream",
     "text": [
      "Elf  159  is carrying  75501 calories\n"
     ]
    }
   ],
   "source": [
    "with open('aoc_day1_input.txt') as f:\n",
    "    lines = f.readlines()\n",
    "\n",
    "elfs_calories = []\n",
    "calories = 0\n",
    "for i,line in enumerate(lines):\n",
    "        if line != '\\n':\n",
    "            calories += int(line)\n",
    "        elif line == '\\n' or  i == len(lines)-1:\n",
    "            elfs_calories.append(calories)\n",
    "            calories = 0\n",
    "\n",
    "print('Elf ', elfs_calories.index(max(elfs_calories)), ' is carrying ', max(elfs_calories), 'calories')\n",
    "        "
   ]
  },
  {
   "cell_type": "code",
   "execution_count": 2,
   "id": "a3010929-783d-4c95-99e2-47900aedd0fb",
   "metadata": {},
   "outputs": [
    {
     "name": "stdout",
     "output_type": "stream",
     "text": [
      "215594\n",
      "1st = 75501 at 159\n",
      "2nd = 70096 at 128\n",
      "3rd = 69997 at 179\n"
     ]
    }
   ],
   "source": [
    "theset = frozenset(elfs_calories)\n",
    "theset = sorted(theset, reverse=True)\n",
    "print(sum(theset[:3]))\n",
    "print('1st = ' + str(theset[0]) + ' at ' + str(elfs_calories.index(theset[0])))\n",
    "print('2nd = ' + str(theset[1]) + ' at ' + str(elfs_calories.index(theset[1])))\n",
    "print('3rd = ' + str(theset[2]) + ' at ' + str(elfs_calories.index(theset[2])))"
   ]
  },
  {
   "cell_type": "code",
   "execution_count": 3,
   "id": "fbe562bb-9247-46dd-ba61-8862a725b1bb",
   "metadata": {},
   "outputs": [
    {
     "data": {
      "text/plain": [
       "215594"
      ]
     },
     "execution_count": 3,
     "metadata": {},
     "output_type": "execute_result"
    }
   ],
   "source": [
    "sum(sorted(elfs_calories, reverse=True)[0:3])"
   ]
  },
  {
   "cell_type": "markdown",
   "id": "0634c7f6-24cd-4385-a0a7-2dbff1d3ef09",
   "metadata": {},
   "source": [
    "# Day 2"
   ]
  },
  {
   "cell_type": "code",
   "execution_count": 4,
   "id": "57985e28-ec0d-4692-9d73-5aa900b3ae93",
   "metadata": {},
   "outputs": [
    {
     "data": {
      "text/plain": [
       "13565"
      ]
     },
     "execution_count": 4,
     "metadata": {},
     "output_type": "execute_result"
    }
   ],
   "source": [
    "#A for Rock, B for Paper, and C for Scissors\n",
    "#shape you selected (1 for Rock, 2 for Paper, and 3 for Scissors) plus the score for the outcome of the round (0 if you lost, 3 if the round was a draw, and 6 if you won).\n",
    "\n",
    "with open('aoc_day2_input.txt') as f:\n",
    "    lines = [ line. strip() for line in f ]\n",
    "\n",
    "opponent_total = 0\n",
    "me_total = 0\n",
    "for index, value in enumerate(lines):\n",
    "    opponent = value[0]\n",
    "    me = value[-1]\n",
    "    if opponent == 'A' and me == 'X':\n",
    "        round_score_opponent = 1 + 3\n",
    "        round_score_me = 1 + 3\n",
    "    elif opponent == 'A' and me == 'Y':\n",
    "        round_score_opponent = 1 + 0\n",
    "        round_score_me = 2 + 6\n",
    "    elif opponent == 'A' and me == 'Z':\n",
    "        round_score_opponent = 1 + 6\n",
    "        round_score_me = 3 + 0\n",
    "    elif opponent == 'B' and me == 'X':\n",
    "        round_score_opponent = 2 + 6\n",
    "        round_score_me = 1 + 0\n",
    "    elif opponent == 'B' and me == 'Y':\n",
    "        round_score_opponent = 2 + 3\n",
    "        round_score_me = 2 + 3\n",
    "    elif opponent == 'B' and me == 'Z':\n",
    "        round_score_opponent = 2 + 0\n",
    "        round_score_me = 3 + 6    \n",
    "    elif opponent == 'C' and me == 'X':\n",
    "        round_score_opponent = 3 + 0\n",
    "        round_score_me = 1 + 6\n",
    "    elif opponent == 'C' and me == 'Y':\n",
    "        round_score_opponent = 3 + 6\n",
    "        round_score_me = 2 + 0\n",
    "    elif opponent == 'C' and me == 'Z':\n",
    "        round_score_opponent = 3 + 3\n",
    "        round_score_me = 3 + 3 \n",
    "    opponent_total += round_score_opponent\n",
    "    me_total += round_score_me\n",
    "me_total"
   ]
  },
  {
   "cell_type": "code",
   "execution_count": 5,
   "id": "7feba52e-e160-444c-a743-694a7f150e09",
   "metadata": {},
   "outputs": [
    {
     "data": {
      "text/plain": [
       "13565"
      ]
     },
     "execution_count": 5,
     "metadata": {},
     "output_type": "execute_result"
    }
   ],
   "source": [
    "me_total"
   ]
  },
  {
   "cell_type": "code",
   "execution_count": 6,
   "id": "961408b4-cbeb-4b92-90ce-81dfd5d12c6d",
   "metadata": {},
   "outputs": [
    {
     "data": {
      "text/plain": [
       "12424"
      ]
     },
     "execution_count": 6,
     "metadata": {},
     "output_type": "execute_result"
    }
   ],
   "source": [
    " #X means you need to lose, Y means you need to end the round in a draw, and Z means you need to win. Good luck!\"\n",
    "    \n",
    "opponent_total = 0\n",
    "me_total = 0\n",
    "for index, value in enumerate(lines):\n",
    "    opponent = value[0]\n",
    "    me = value[-1]\n",
    "    if opponent == 'A' and me == 'Y':\n",
    "        round_score_opponent = 1 + 3\n",
    "        round_score_me = 1 + 3\n",
    "    elif opponent == 'A' and me == 'Z':\n",
    "        round_score_opponent = 1 + 0\n",
    "        round_score_me = 2 + 6\n",
    "    elif opponent == 'A' and me == 'X':\n",
    "        round_score_opponent = 1 + 6\n",
    "        round_score_me = 3 + 0\n",
    "    elif opponent == 'B' and me == 'X':\n",
    "        round_score_opponent = 2 + 6\n",
    "        round_score_me = 1 + 0\n",
    "    elif opponent == 'B' and me == 'Y':\n",
    "        round_score_opponent = 2 + 3\n",
    "        round_score_me = 2 + 3\n",
    "    elif opponent == 'B' and me == 'Z':\n",
    "        round_score_opponent = 2 + 0\n",
    "        round_score_me = 3 + 6    \n",
    "    elif opponent == 'C' and me == 'Z':\n",
    "        round_score_opponent = 3 + 0\n",
    "        round_score_me = 1 + 6\n",
    "    elif opponent == 'C' and me == 'X':\n",
    "        round_score_opponent = 3 + 6\n",
    "        round_score_me = 2 + 0\n",
    "    elif opponent == 'C' and me == 'Y':\n",
    "        round_score_opponent = 3 + 3\n",
    "        round_score_me = 3 + 3 \n",
    "    opponent_total += round_score_opponent\n",
    "    me_total += round_score_me   \n",
    "me_total"
   ]
  },
  {
   "cell_type": "markdown",
   "id": "e3892376-d7b8-4dcc-9558-c0b30f9aa5f6",
   "metadata": {},
   "source": [
    "# Day 3"
   ]
  },
  {
   "cell_type": "code",
   "execution_count": 7,
   "id": "0308d218-fdfa-4c52-addf-eb2082f7725b",
   "metadata": {},
   "outputs": [],
   "source": [
    "with open('aoc_day3_input.txt') as f:\n",
    "    lines = [ line. strip() for line in f ]"
   ]
  },
  {
   "cell_type": "code",
   "execution_count": 8,
   "id": "c975824a-a409-42a4-9d38-aac76aebfe16",
   "metadata": {},
   "outputs": [
    {
     "data": {
      "text/plain": [
       "7597"
      ]
     },
     "execution_count": 8,
     "metadata": {},
     "output_type": "execute_result"
    }
   ],
   "source": [
    "letters = list(map(chr, range(ord('a'), ord('z')+1))) + list(map(chr, range(ord('A'), ord('Z')+1)))\n",
    "\n",
    "scores = 0\n",
    "for index,value in enumerate(lines):\n",
    "    a = value[:int(len(value)/2)]\n",
    "    b = value[int(len(value)/2):]\n",
    "    c = set(a).intersection(b)\n",
    "    d = letters.index(c.pop())+1\n",
    "    scores += d\n",
    "scores"
   ]
  },
  {
   "cell_type": "code",
   "execution_count": 9,
   "id": "fe27b44c-5eb9-49cd-b51d-11f0299a816a",
   "metadata": {},
   "outputs": [
    {
     "data": {
      "text/plain": [
       "2607"
      ]
     },
     "execution_count": 9,
     "metadata": {},
     "output_type": "execute_result"
    }
   ],
   "source": [
    "scores = 0\n",
    "for index,value in enumerate(lines):\n",
    "    if (index+3) %  3 == 0:\n",
    "        a = lines[index]\n",
    "        b = lines[index+1]\n",
    "        c = lines[index+2]\n",
    "        d = set(a).intersection(b).intersection(c)\n",
    "        d = letters.index(d.pop())+1\n",
    "        scores += d\n",
    "scores"
   ]
  },
  {
   "cell_type": "markdown",
   "id": "1507f79a-9dc9-4f75-ac57-05e28bbf1c9c",
   "metadata": {},
   "source": [
    "# Day 4"
   ]
  },
  {
   "cell_type": "code",
   "execution_count": 10,
   "id": "2a9f2920-eb2f-4223-b5d4-424ced63f8d5",
   "metadata": {},
   "outputs": [
    {
     "data": {
      "text/plain": [
       "'14-28,13-28'"
      ]
     },
     "execution_count": 10,
     "metadata": {},
     "output_type": "execute_result"
    }
   ],
   "source": [
    "with open('aoc_day4_input.txt') as f:\n",
    "    lines = [ line. strip() for line in f ]\n",
    "lines[0]"
   ]
  },
  {
   "cell_type": "code",
   "execution_count": 11,
   "id": "d3890d31-3b78-4bac-b7b4-0ed7df212cbd",
   "metadata": {},
   "outputs": [
    {
     "data": {
      "text/plain": [
       "305"
      ]
     },
     "execution_count": 11,
     "metadata": {},
     "output_type": "execute_result"
    }
   ],
   "source": [
    "fully_contained = 0\n",
    "for line in lines:\n",
    "\n",
    "    elfs = line.split(',')\n",
    "    elf1, elf2 = elfs[0].split('-'),elfs[1].split('-')\n",
    "    if (int(elf1[0]) >= int(elf2[0]) and int(elf1[1]) <= int(elf2[1])) or (int(elf2[0]) >= int(elf1[0]) and int(elf2[1]) <= int(elf1[1])):\n",
    "        fully_contained +=1\n",
    "fully_contained"
   ]
  },
  {
   "cell_type": "code",
   "execution_count": 12,
   "id": "5821955d-804c-4acc-90a5-eabffcda37c9",
   "metadata": {},
   "outputs": [
    {
     "data": {
      "text/plain": [
       "811"
      ]
     },
     "execution_count": 12,
     "metadata": {},
     "output_type": "execute_result"
    }
   ],
   "source": [
    "overlap = 0\n",
    "for line in lines:\n",
    "\n",
    "    elfs = line.split(',')\n",
    "    elf1, elf2 = elfs[0].split('-'),elfs[1].split('-')\n",
    "    elf1_set = set(range(int(elf1[0]),int(elf1[1])+1))\n",
    "    elf2_set = set(range(int(elf2[0]),int(elf2[1])+1))\n",
    "    overlaps = elf1_set.intersection(elf2_set)\n",
    "    if len(overlaps) > 0:\n",
    "        overlap += 1\n",
    "overlap"
   ]
  },
  {
   "cell_type": "markdown",
   "id": "10efb4bb-213a-43d7-bceb-4dfb549b7754",
   "metadata": {},
   "source": [
    "# Day 5"
   ]
  },
  {
   "cell_type": "code",
   "execution_count": 13,
   "id": "709cd0de-7b63-4ede-94b4-1db6c9ec3cd8",
   "metadata": {},
   "outputs": [
    {
     "data": {
      "text/plain": [
       "['    [C]             [L]         [T]',\n",
       " '    [V] [R] [M]     [T]         [B]',\n",
       " '    [F] [G] [H] [Q] [Q]         [H]',\n",
       " '    [W] [L] [P] [V] [M] [V]     [F]',\n",
       " '    [P] [C] [W] [S] [Z] [B] [S] [P]',\n",
       " '[G] [R] [M] [B] [F] [J] [S] [Z] [D]',\n",
       " '[J] [L] [P] [F] [C] [H] [F] [J] [C]',\n",
       " '[Z] [Q] [F] [L] [G] [W] [H] [F] [M]',\n",
       " ' 1   2   3   4   5   6   7   8   9 ']"
      ]
     },
     "execution_count": 13,
     "metadata": {},
     "output_type": "execute_result"
    }
   ],
   "source": [
    "with open('aoc_day5_input.txt') as f:\n",
    "    lines = f.readlines()\n",
    "current_stack = lines[:lines.index('\\n') ]\n",
    "current_stack = [ stack.replace('\\n','') for stack in current_stack ]\n",
    "\n",
    "instructions = lines[lines.index('\\n')+1:]\n",
    "instructions = [ i.strip() for i in instructions]\n",
    "current_stack\n"
   ]
  },
  {
   "cell_type": "code",
   "execution_count": 14,
   "id": "779ad4bd-3ddd-42e6-a295-1e5eb152dc69",
   "metadata": {},
   "outputs": [],
   "source": [
    "def get_stack(all_stacks, stack_num):\n",
    "    rev = list(reversed(all_stacks))[1::]\n",
    "    stack = []\n",
    "    for line in rev:\n",
    "        index = 4*(stack_num-1) +1\n",
    "        if index<len(line) and line[index] != ' ':\n",
    "            stack.append(line[index])\n",
    "    return stack"
   ]
  },
  {
   "cell_type": "code",
   "execution_count": 15,
   "id": "1f775f2e-4bf9-4a66-9358-2e19395d061b",
   "metadata": {},
   "outputs": [
    {
     "data": {
      "text/plain": [
       "[['Z', 'J', 'G'],\n",
       " ['Q', 'L', 'R', 'P', 'W', 'F', 'V', 'C'],\n",
       " ['F', 'P', 'M', 'C', 'L', 'G', 'R'],\n",
       " ['L', 'F', 'B', 'W', 'P', 'H', 'M'],\n",
       " ['G', 'C', 'F', 'S', 'V', 'Q'],\n",
       " ['W', 'H', 'J', 'Z', 'M', 'Q', 'T', 'L'],\n",
       " ['H', 'F', 'S', 'B', 'V'],\n",
       " ['F', 'J', 'Z', 'S'],\n",
       " ['M', 'C', 'D', 'P', 'F', 'H', 'B', 'T']]"
      ]
     },
     "execution_count": 15,
     "metadata": {},
     "output_type": "execute_result"
    }
   ],
   "source": [
    "stacks = [get_stack(current_stack,i) for i in range(1,10)]\n",
    "stacks"
   ]
  },
  {
   "cell_type": "code",
   "execution_count": 16,
   "id": "48e5779f-182d-49a1-9fc2-740809eeaeef",
   "metadata": {
    "tags": []
   },
   "outputs": [
    {
     "name": "stdout",
     "output_type": "stream",
     "text": [
      "[['W'], ['S'], ['H', 'V', 'R', 'D', 'J', 'F'], ['S', 'T'], ['F', 'W', 'M'], ['C', 'V', 'V', 'S', 'L', 'L', 'M', 'L', 'M', 'R'], ['F', 'G', 'G', 'J', 'P', 'F', 'B', 'H', 'B', 'Q', 'B', 'L', 'Z', 'C', 'P', 'G', 'F', 'J', 'F', 'H'], ['C', 'F', 'M', 'H', 'T', 'Q', 'Z', 'Q', 'C', 'P'], ['Z', 'W', 'P']]\n"
     ]
    }
   ],
   "source": [
    "for instruction in instructions:\n",
    "    ins = instruction.split(' ')\n",
    "    num_to_move = int(ins[1])\n",
    "    from_stack = int(ins[3])\n",
    "    to_stack = int(ins[5])\n",
    "    for moves in range(1,num_to_move+1):\n",
    "        try:\n",
    "            stacks[to_stack-1].append(stacks[from_stack-1].pop())\n",
    "        except:\n",
    "            pass\n",
    "print(stacks)"
   ]
  },
  {
   "cell_type": "code",
   "execution_count": 17,
   "id": "733ddb68-5ac2-4678-a063-02c925455f80",
   "metadata": {},
   "outputs": [
    {
     "data": {
      "text/plain": [
       "'WSFTMRHPP'"
      ]
     },
     "execution_count": 17,
     "metadata": {},
     "output_type": "execute_result"
    }
   ],
   "source": [
    "b = ''\n",
    "for stack in stacks:\n",
    "    b += stack[-1]\n",
    "b"
   ]
  },
  {
   "cell_type": "code",
   "execution_count": 18,
   "id": "bc02da4c-9d25-4b22-906b-16298812ed77",
   "metadata": {},
   "outputs": [],
   "source": [
    "stacks = [get_stack(current_stack,i) for i in range(1,10)]\n",
    "\n",
    "for instruction in instructions:\n",
    "    ins = instruction.split(' ')\n",
    "    num_to_move = int(ins[1])\n",
    "    from_stack = int(ins[3])\n",
    "    to_stack = int(ins[5])\n",
    "\n",
    "    stacks[to_stack-1] += stacks[from_stack-1][-num_to_move:]\n",
    "    stacks[from_stack-1]= stacks[from_stack-1][:-num_to_move]\n",
    "                                          \n"
   ]
  },
  {
   "cell_type": "code",
   "execution_count": 19,
   "id": "2d3903fb-8247-45ef-a536-3365f98ddbef",
   "metadata": {},
   "outputs": [
    {
     "data": {
      "text/plain": [
       "'GSLCMFBRP'"
      ]
     },
     "execution_count": 19,
     "metadata": {},
     "output_type": "execute_result"
    }
   ],
   "source": [
    "b = ''\n",
    "for stack in stacks:\n",
    "    b += stack[-1]\n",
    "b"
   ]
  },
  {
   "cell_type": "code",
   "execution_count": null,
   "id": "96f0ef96-ef0b-4676-9203-f01d849aa701",
   "metadata": {},
   "outputs": [],
   "source": []
  }
 ],
 "metadata": {
  "kernelspec": {
   "display_name": "Python 3 (ipykernel)",
   "language": "python",
   "name": "python3"
  },
  "language_info": {
   "codemirror_mode": {
    "name": "ipython",
    "version": 3
   },
   "file_extension": ".py",
   "mimetype": "text/x-python",
   "name": "python",
   "nbconvert_exporter": "python",
   "pygments_lexer": "ipython3",
   "version": "3.9.13"
  }
 },
 "nbformat": 4,
 "nbformat_minor": 5
}
