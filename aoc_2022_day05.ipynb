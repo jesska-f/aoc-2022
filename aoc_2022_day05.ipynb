{
 "cells": [
  {
   "cell_type": "markdown",
   "id": "8faf9a31-8823-4460-ac59-53cf2c5bfca1",
   "metadata": {
    "tags": []
   },
   "source": [
    "### --- Part Two ---\n",
    "The Elf finishes helping with the tent and sneaks back over to you. \"Anyway, the second column says how the round needs to end: X means you need to lose, Y means you need to end the round in a draw, and Z means you need to win. Good luck!\"\n",
    "\n",
    "The total score is still calculated in the same way, but now you need to figure out what shape to choose so the round ends as indicated. The example above now goes like this:\n",
    "\n",
    "In the first round, your opponent will choose Rock (A), and you need the round to end in a draw (Y), so you also choose Rock. This gives you a score of 1 + 3 = 4.\n",
    "In the second round, your opponent will choose Paper (B), and you choose Rock so you lose (X) with a score of 1 + 0 = 1.\n",
    "In the third round, you will defeat your opponent's Scissors with Rock for a score of 1 + 6 = 7.\n",
    "Now that you're correctly decrypting the ultra top secret strategy guide, you would get a total score of 12.\n",
    "\n",
    "Following the Elf's instructions for the second column, what would your total score be if everything goes exactly according to your strategy guide?"
   ]
  },
  {
   "cell_type": "code",
   "execution_count": null,
   "id": "961408b4-cbeb-4b92-90ce-81dfd5d12c6d",
   "metadata": {},
   "outputs": [],
   "source": [
    " #X means you need to lose, Y means you need to end the round in a draw, and Z means you need to win. Good luck!\"\n",
    "    \n",
    "opponent_total = 0\n",
    "me_total = 0\n",
    "for index, value in enumerate(lines):\n",
    "    opponent = value[0]\n",
    "    me = value[-1]\n",
    "    if opponent == 'A' and me == 'Y':\n",
    "        round_score_opponent = 1 + 3\n",
    "        round_score_me = 1 + 3\n",
    "    elif opponent == 'A' and me == 'Z':\n",
    "        round_score_opponent = 1 + 0\n",
    "        round_score_me = 2 + 6\n",
    "    elif opponent == 'A' and me == 'X':\n",
    "        round_score_opponent = 1 + 6\n",
    "        round_score_me = 3 + 0\n",
    "    elif opponent == 'B' and me == 'X':\n",
    "        round_score_opponent = 2 + 6\n",
    "        round_score_me = 1 + 0\n",
    "    elif opponent == 'B' and me == 'Y':\n",
    "        round_score_opponent = 2 + 3\n",
    "        round_score_me = 2 + 3\n",
    "    elif opponent == 'B' and me == 'Z':\n",
    "        round_score_opponent = 2 + 0\n",
    "        round_score_me = 3 + 6    \n",
    "    elif opponent == 'C' and me == 'Z':\n",
    "        round_score_opponent = 3 + 0\n",
    "        round_score_me = 1 + 6\n",
    "    elif opponent == 'C' and me == 'X':\n",
    "        round_score_opponent = 3 + 6\n",
    "        round_score_me = 2 + 0\n",
    "    elif opponent == 'C' and me == 'Y':\n",
    "        round_score_opponent = 3 + 3\n",
    "        round_score_me = 3 + 3 \n",
    "    opponent_total += round_score_opponent\n",
    "    me_total += round_score_me   \n",
    "me_total"
   ]
  },
  {
   "cell_type": "markdown",
   "id": "f2837928-bf11-4c5f-b3e8-74b4dd78d827",
   "metadata": {
    "tags": []
   },
   "source": [
    "One Elf has the important job of loading all of the rucksacks with supplies for the jungle journey. Unfortunately, that Elf didn't quite follow the packing instructions, and so a few items now need to be rearranged.\n",
    "\n",
    "Each rucksack has two large compartments. All items of a given type are meant to go into exactly one of the two compartments. The Elf that did the packing failed to follow this rule for exactly one item type per rucksack.\n",
    "\n",
    "The Elves have made a list of all of the items currently in each rucksack (your puzzle input), but they need your help finding the errors. Every item type is identified by a single lowercase or uppercase letter (that is, a and A refer to different types of items).\n",
    "\n",
    "The list of items for each rucksack is given as characters all on a single line. A given rucksack always has the same number of items in each of its two compartments, so the first half of the characters represent items in the first compartment, while the second half of the characters represent items in the second compartment.\n",
    "\n",
    "For example, suppose you have the following list of contents from six rucksacks:\n",
    "\n",
    "vJrwpWtwJgWrhcsFMMfFFhFp\n",
    "jqHRNqRjqzjGDLGLrsFMfFZSrLrFZsSL\n",
    "PmmdzqPrVvPwwTWBwg\n",
    "wMqvLMZHhHMvwLHjbvcjnnSBnvTQFn\n",
    "ttgJtRGJQctTZtZT\n",
    "CrZsJsPPZsGzwwsLwLmpwMDw\n",
    "The first rucksack contains the items vJrwpWtwJgWrhcsFMMfFFhFp, which means its first compartment contains the items vJrwpWtwJgWr, while the second compartment contains the items hcsFMMfFFhFp. The only item type that appears in both compartments is lowercase p.\n",
    "The second rucksack's compartments contain jqHRNqRjqzjGDLGL and rsFMfFZSrLrFZsSL. The only item type that appears in both compartments is uppercase L.\n",
    "The third rucksack's compartments contain PmmdzqPrV and vPwwTWBwg; the only common item type is uppercase P.\n",
    "The fourth rucksack's compartments only share item type v.\n",
    "The fifth rucksack's compartments only share item type t.\n",
    "The sixth rucksack's compartments only share item type s.\n",
    "To help prioritize item rearrangement, every item type can be converted to a priority:\n",
    "\n",
    "Lowercase item types a through z have priorities 1 through 26.\n",
    "Uppercase item types A through Z have priorities 27 through 52.\n",
    "In the above example, the priority of the item type that appears in both compartments of each rucksack is 16 (p), 38 (L), 42 (P), 22 (v), 20 (t), and 19 (s); the sum of these is 157.\n",
    "\n",
    "Find the item type that appears in both compartments of each rucksack. What is the sum of the priorities of those item types?"
   ]
  },
  {
   "cell_type": "code",
   "execution_count": null,
   "id": "0308d218-fdfa-4c52-addf-eb2082f7725b",
   "metadata": {},
   "outputs": [],
   "source": [
    "with open('aoc_day3_input.txt') as f:\n",
    "    lines = [ line. strip() for line in f ]"
   ]
  },
  {
   "cell_type": "code",
   "execution_count": null,
   "id": "c975824a-a409-42a4-9d38-aac76aebfe16",
   "metadata": {},
   "outputs": [],
   "source": [
    "letters = list(map(chr, range(ord('a'), ord('z')+1))) + list(map(chr, range(ord('A'), ord('Z')+1)))\n",
    "\n",
    "scores = 0\n",
    "for index,value in enumerate(lines):\n",
    "    a = value[:int(len(value)/2)]\n",
    "    b = value[int(len(value)/2):]\n",
    "    c = set(a).intersection(b)\n",
    "    d = letters.index(c.pop())+1\n",
    "    scores += d\n",
    "scores"
   ]
  },
  {
   "cell_type": "markdown",
   "id": "35f1856e-6b80-422b-8264-a94963741610",
   "metadata": {},
   "source": [
    "### --- Part Two ---\n",
    "As you finish identifying the misplaced items, the Elves come to you with another issue.\n",
    "\n",
    "For safety, the Elves are divided into groups of three. Every Elf carries a badge that identifies their group. For efficiency, within each group of three Elves, the badge is the only item type carried by all three Elves. That is, if a group's badge is item type B, then all three Elves will have item type B somewhere in their rucksack, and at most two of the Elves will be carrying any other item type.\n",
    "\n",
    "The problem is that someone forgot to put this year's updated authenticity sticker on the badges. All of the badges need to be pulled out of the rucksacks so the new authenticity stickers can be attached.\n",
    "\n",
    "Additionally, nobody wrote down which item type corresponds to each group's badges. The only way to tell which item type is the right one is by finding the one item type that is common between all three Elves in each group.\n",
    "\n",
    "Every set of three lines in your list corresponds to a single group, but each group can have a different badge item type. So, in the above example, the first group's rucksacks are the first three lines:\n",
    "\n",
    "vJrwpWtwJgWrhcsFMMfFFhFp\n",
    "jqHRNqRjqzjGDLGLrsFMfFZSrLrFZsSL\n",
    "PmmdzqPrVvPwwTWBwg\n",
    "And the second group's rucksacks are the next three lines:\n",
    "\n",
    "wMqvLMZHhHMvwLHjbvcjnnSBnvTQFn\n",
    "ttgJtRGJQctTZtZT\n",
    "CrZsJsPPZsGzwwsLwLmpwMDw\n",
    "In the first group, the only item type that appears in all three rucksacks is lowercase r; this must be their badges. In the second group, their badge item type must be Z.\n",
    "\n",
    "Priorities for these items must still be found to organize the sticker attachment efforts: here, they are 18 (r) for the first group and 52 (Z) for the second group. The sum of these is 70.\n",
    "\n",
    "Find the item type that corresponds to the badges of each three-Elf group. What is the sum of the priorities of those item types?"
   ]
  },
  {
   "cell_type": "code",
   "execution_count": null,
   "id": "fe27b44c-5eb9-49cd-b51d-11f0299a816a",
   "metadata": {},
   "outputs": [],
   "source": [
    "scores = 0\n",
    "for index,value in enumerate(lines):\n",
    "    if (index+3) %  3 == 0:\n",
    "        a = lines[index]\n",
    "        b = lines[index+1]\n",
    "        c = lines[index+2]\n",
    "        d = set(a).intersection(b).intersection(c)\n",
    "        d = letters.index(d.pop())+1\n",
    "        scores += d\n",
    "scores"
   ]
  },
  {
   "cell_type": "markdown",
   "id": "1e37e034-6b60-4baa-98a4-9f018d75467f",
   "metadata": {},
   "source": [
    "Space needs to be cleared before the last supplies can be unloaded from the ships, and so several Elves have been assigned the job of cleaning up sections of the camp. Every section has a unique ID number, and each Elf is assigned a range of section IDs.\n",
    "\n",
    "However, as some of the Elves compare their section assignments with each other, they've noticed that many of the assignments overlap. To try to quickly find overlaps and reduce duplicated effort, the Elves pair up and make a big list of the section assignments for each pair (your puzzle input).\n",
    "\n",
    "For example, consider the following list of section assignment pairs:\n",
    "\n",
    "2-4,6-8\n",
    "2-3,4-5\n",
    "5-7,7-9\n",
    "2-8,3-7\n",
    "6-6,4-6\n",
    "2-6,4-8\n",
    "For the first few pairs, this list means:\n",
    "\n",
    "Within the first pair of Elves, the first Elf was assigned sections 2-4 (sections 2, 3, and 4), while the second Elf was assigned sections 6-8 (sections 6, 7, 8).\n",
    "The Elves in the second pair were each assigned two sections.\n",
    "The Elves in the third pair were each assigned three sections: one got sections 5, 6, and 7, while the other also got 7, plus 8 and 9.\n",
    "This example list uses single-digit section IDs to make it easier to draw; your actual list might contain larger numbers. Visually, these pairs of section assignments look like this:\n",
    "\n",
    ".234.....  2-4\n",
    ".....678.  6-8\n",
    "\n",
    ".23......  2-3\n",
    "...45....  4-5\n",
    "\n",
    "....567..  5-7\n",
    "......789  7-9\n",
    "\n",
    ".2345678.  2-8\n",
    "..34567..  3-7\n",
    "\n",
    ".....6...  6-6\n",
    "...456...  4-6\n",
    "\n",
    ".23456...  2-6\n",
    "...45678.  4-8\n",
    "Some of the pairs have noticed that one of their assignments fully contains the other. For example, 2-8 fully contains 3-7, and 6-6 is fully contained by 4-6. In pairs where one assignment fully contains the other, one Elf in the pair would be exclusively cleaning sections their partner will already be cleaning, so these seem like the most in need of reconsideration. In this example, there are 2 such pairs.\n",
    "\n",
    "In how many assignment pairs does one range fully contain the other?"
   ]
  },
  {
   "cell_type": "code",
   "execution_count": null,
   "id": "2a9f2920-eb2f-4223-b5d4-424ced63f8d5",
   "metadata": {},
   "outputs": [],
   "source": [
    "with open('aoc_day4_input.txt') as f:\n",
    "    lines = [ line. strip() for line in f ]\n",
    "lines[0]"
   ]
  },
  {
   "cell_type": "code",
   "execution_count": null,
   "id": "d3890d31-3b78-4bac-b7b4-0ed7df212cbd",
   "metadata": {},
   "outputs": [],
   "source": [
    "fully_contained = 0\n",
    "for line in lines:\n",
    "\n",
    "    elfs = line.split(',')\n",
    "    elf1, elf2 = elfs[0].split('-'),elfs[1].split('-')\n",
    "    if (int(elf1[0]) >= int(elf2[0]) and int(elf1[1]) <= int(elf2[1])) or (int(elf2[0]) >= int(elf1[0]) and int(elf2[1]) <= int(elf1[1])):\n",
    "        fully_contained +=1\n",
    "fully_contained"
   ]
  },
  {
   "cell_type": "markdown",
   "id": "21011b4f-1161-4481-bb25-9e074e77111c",
   "metadata": {},
   "source": [
    "### --- Part Two ---\n",
    "It seems like there is still quite a bit of duplicate work planned. Instead, the Elves would like to know the number of pairs that overlap at all.\n",
    "\n",
    "In the above example, the first two pairs (2-4,6-8 and 2-3,4-5) don't overlap, while the remaining four pairs (5-7,7-9, 2-8,3-7, 6-6,4-6, and 2-6,4-8) do overlap:\n",
    "\n",
    "5-7,7-9 overlaps in a single section, 7.\n",
    "2-8,3-7 overlaps all of the sections 3 through 7.\n",
    "6-6,4-6 overlaps in a single section, 6.\n",
    "2-6,4-8 overlaps in sections 4, 5, and 6.\n",
    "So, in this example, the number of overlapping assignment pairs is 4.\n",
    "\n",
    "In how many assignment pairs do the ranges overlap?"
   ]
  },
  {
   "cell_type": "code",
   "execution_count": null,
   "id": "5821955d-804c-4acc-90a5-eabffcda37c9",
   "metadata": {},
   "outputs": [],
   "source": [
    "overlap = 0\n",
    "for line in lines:\n",
    "\n",
    "    elfs = line.split(',')\n",
    "    elf1, elf2 = elfs[0].split('-'),elfs[1].split('-')\n",
    "    elf1_set = set(range(int(elf1[0]),int(elf1[1])+1))\n",
    "    elf2_set = set(range(int(elf2[0]),int(elf2[1])+1))\n",
    "    overlaps = elf1_set.intersection(elf2_set)\n",
    "    if len(overlaps) > 0:\n",
    "        overlap += 1\n",
    "overlap"
   ]
  },
  {
   "cell_type": "markdown",
   "id": "10efb4bb-213a-43d7-bceb-4dfb549b7754",
   "metadata": {
    "tags": []
   },
   "source": [
    "# Day 5: Supply Stacks <a name=\"day5\"></a>"
   ]
  },
  {
   "cell_type": "markdown",
   "id": "e95ea3fe-ce65-4773-abac-d27e5938c55a",
   "metadata": {
    "tags": []
   },
   "source": [
    "The expedition can depart as soon as the final supplies have been unloaded from the ships. Supplies are stored in stacks of marked crates, but because the needed supplies are buried under many other crates, the crates need to be rearranged.\n",
    "\n",
    "The ship has a giant cargo crane capable of moving crates between stacks. To ensure none of the crates get crushed or fall over, the crane operator will rearrange them in a series of carefully-planned steps. After the crates are rearranged, the desired crates will be at the top of each stack.\n",
    "\n",
    "The Elves don't want to interrupt the crane operator during this delicate procedure, but they forgot to ask her which crate will end up where, and they want to be ready to unload them as soon as possible so they can embark.\n",
    "\n",
    "They do, however, have a drawing of the starting stacks of crates and the rearrangement procedure (your puzzle input). For example:\n",
    "\n",
    "    [D]    \n",
    "[N] [C]    \n",
    "[Z] [M] [P]\n",
    " 1   2   3 \n",
    "\n",
    "move 1 from 2 to 1\n",
    "move 3 from 1 to 3\n",
    "move 2 from 2 to 1\n",
    "move 1 from 1 to 2\n",
    "In this example, there are three stacks of crates. Stack 1 contains two crates: crate Z is on the bottom, and crate N is on top. Stack 2 contains three crates; from bottom to top, they are crates M, C, and D. Finally, stack 3 contains a single crate, P.\n",
    "\n",
    "Then, the rearrangement procedure is given. In each step of the procedure, a quantity of crates is moved from one stack to a different stack. In the first step of the above rearrangement procedure, one crate is moved from stack 2 to stack 1, resulting in this configuration:\n",
    "\n",
    "[D]        \n",
    "[N] [C]    \n",
    "[Z] [M] [P]\n",
    " 1   2   3 \n",
    "In the second step, three crates are moved from stack 1 to stack 3. Crates are moved one at a time, so the first crate to be moved (D) ends up below the second and third crates:\n",
    "\n",
    "        [Z]\n",
    "        [N]\n",
    "    [C] [D]\n",
    "    [M] [P]\n",
    " 1   2   3\n",
    "Then, both crates are moved from stack 2 to stack 1. Again, because crates are moved one at a time, crate C ends up below crate M:\n",
    "\n",
    "        [Z]\n",
    "        [N]\n",
    "[M]     [D]\n",
    "[C]     [P]\n",
    " 1   2   3\n",
    "Finally, one crate is moved from stack 1 to stack 2:\n",
    "\n",
    "        [Z]\n",
    "        [N]\n",
    "        [D]\n",
    "[C] [M] [P]\n",
    " 1   2   3\n",
    "The Elves just need to know which crate will end up on top of each stack; in this example, the top crates are C in stack 1, M in stack 2, and Z in stack 3, so you should combine these together and give the Elves the message CMZ.\n",
    "\n",
    "After the rearrangement procedure completes, what crate ends up on top of each stack?"
   ]
  },
  {
   "cell_type": "code",
   "execution_count": 1,
   "id": "709cd0de-7b63-4ede-94b4-1db6c9ec3cd8",
   "metadata": {},
   "outputs": [
    {
     "data": {
      "text/plain": [
       "['    [C]             [L]         [T]',\n",
       " '    [V] [R] [M]     [T]         [B]',\n",
       " '    [F] [G] [H] [Q] [Q]         [H]',\n",
       " '    [W] [L] [P] [V] [M] [V]     [F]',\n",
       " '    [P] [C] [W] [S] [Z] [B] [S] [P]',\n",
       " '[G] [R] [M] [B] [F] [J] [S] [Z] [D]',\n",
       " '[J] [L] [P] [F] [C] [H] [F] [J] [C]',\n",
       " '[Z] [Q] [F] [L] [G] [W] [H] [F] [M]',\n",
       " ' 1   2   3   4   5   6   7   8   9 ']"
      ]
     },
     "execution_count": 1,
     "metadata": {},
     "output_type": "execute_result"
    }
   ],
   "source": [
    "with open('inputs/aoc_day5_input.txt') as f:\n",
    "    lines = f.readlines()\n",
    "current_stack = lines[:lines.index('\\n') ]\n",
    "current_stack = [ stack.replace('\\n','') for stack in current_stack ]\n",
    "\n",
    "instructions = lines[lines.index('\\n')+1:]\n",
    "instructions = [ i.strip() for i in instructions]\n",
    "current_stack"
   ]
  },
  {
   "cell_type": "code",
   "execution_count": 2,
   "id": "779ad4bd-3ddd-42e6-a295-1e5eb152dc69",
   "metadata": {},
   "outputs": [],
   "source": [
    "def get_stack(all_stacks, stack_num):\n",
    "    rev = list(reversed(all_stacks))[1::]\n",
    "    stack = []\n",
    "    for line in rev:\n",
    "        index = 4*(stack_num-1) +1\n",
    "        if index<len(line) and line[index] != ' ':\n",
    "            stack.append(line[index])\n",
    "    return stack"
   ]
  },
  {
   "cell_type": "code",
   "execution_count": 3,
   "id": "1f775f2e-4bf9-4a66-9358-2e19395d061b",
   "metadata": {},
   "outputs": [
    {
     "data": {
      "text/plain": [
       "[['Z', 'J', 'G'],\n",
       " ['Q', 'L', 'R', 'P', 'W', 'F', 'V', 'C'],\n",
       " ['F', 'P', 'M', 'C', 'L', 'G', 'R'],\n",
       " ['L', 'F', 'B', 'W', 'P', 'H', 'M'],\n",
       " ['G', 'C', 'F', 'S', 'V', 'Q'],\n",
       " ['W', 'H', 'J', 'Z', 'M', 'Q', 'T', 'L'],\n",
       " ['H', 'F', 'S', 'B', 'V'],\n",
       " ['F', 'J', 'Z', 'S'],\n",
       " ['M', 'C', 'D', 'P', 'F', 'H', 'B', 'T']]"
      ]
     },
     "execution_count": 3,
     "metadata": {},
     "output_type": "execute_result"
    }
   ],
   "source": [
    "stacks = [get_stack(current_stack,i) for i in range(1,10)]\n",
    "stacks"
   ]
  },
  {
   "cell_type": "code",
   "execution_count": 4,
   "id": "48e5779f-182d-49a1-9fc2-740809eeaeef",
   "metadata": {
    "tags": []
   },
   "outputs": [
    {
     "name": "stdout",
     "output_type": "stream",
     "text": [
      "[['W'],\n",
      " ['S'],\n",
      " ['H', 'V', 'R', 'D', 'J', 'F'],\n",
      " ['S', 'T'],\n",
      " ['F', 'W', 'M'],\n",
      " ['C', 'V', 'V', 'S', 'L', 'L', 'M', 'L', 'M', 'R'],\n",
      " ['F',\n",
      "  'G',\n",
      "  'G',\n",
      "  'J',\n",
      "  'P',\n",
      "  'F',\n",
      "  'B',\n",
      "  'H',\n",
      "  'B',\n",
      "  'Q',\n",
      "  'B',\n",
      "  'L',\n",
      "  'Z',\n",
      "  'C',\n",
      "  'P',\n",
      "  'G',\n",
      "  'F',\n",
      "  'J',\n",
      "  'F',\n",
      "  'H'],\n",
      " ['C', 'F', 'M', 'H', 'T', 'Q', 'Z', 'Q', 'C', 'P'],\n",
      " ['Z', 'W', 'P']]\n"
     ]
    }
   ],
   "source": [
    "from pprint import pprint\n",
    "for instruction in instructions:\n",
    "    ins = instruction.split(' ')\n",
    "    num_to_move = int(ins[1])\n",
    "    from_stack = int(ins[3])\n",
    "    to_stack = int(ins[5])\n",
    "    for moves in range(1,num_to_move+1):\n",
    "        try:\n",
    "            stacks[to_stack-1].append(stacks[from_stack-1].pop())\n",
    "        except:\n",
    "            pass\n",
    "pprint(stacks)"
   ]
  },
  {
   "cell_type": "code",
   "execution_count": 5,
   "id": "733ddb68-5ac2-4678-a063-02c925455f80",
   "metadata": {},
   "outputs": [
    {
     "data": {
      "text/plain": [
       "'WSFTMRHPP'"
      ]
     },
     "execution_count": 5,
     "metadata": {},
     "output_type": "execute_result"
    }
   ],
   "source": [
    "b = ''\n",
    "for stack in stacks:\n",
    "    b += stack[-1]\n",
    "b"
   ]
  },
  {
   "cell_type": "markdown",
   "id": "52e4a6b4-9e6b-4772-abf3-dfd4b385c730",
   "metadata": {
    "tags": []
   },
   "source": [
    "### --- Part Two ---\n",
    "As you watch the crane operator expertly rearrange the crates, you notice the process isn't following your prediction.\n",
    "\n",
    "Some mud was covering the writing on the side of the crane, and you quickly wipe it away. The crane isn't a CrateMover 9000 - it's a CrateMover 9001.\n",
    "\n",
    "The CrateMover 9001 is notable for many new and exciting features: air conditioning, leather seats, an extra cup holder, and the ability to pick up and move multiple crates at once.\n",
    "\n",
    "Again considering the example above, the crates begin in the same configuration:\n",
    "\n",
    "    [D]    \n",
    "\\[N] \\[C]    \n",
    "\\[Z] \\[M] \\[P]\n",
    " 1   2   3 \n",
    "Moving a single crate from stack 2 to stack 1 behaves the same as before:\n",
    "\n",
    "[D]        \n",
    "[N] [C]    \n",
    "[Z] [M] [P]\n",
    " 1   2   3 \n",
    "However, the action of moving three crates from stack 1 to stack 3 means that those three moved crates stay in the same order, resulting in this new configuration:\n",
    "\n",
    "        [D]\n",
    "        [N]\n",
    "    [C] [Z]\n",
    "    [M] [P]\n",
    " 1   2   3\n",
    "Next, as both crates are moved from stack 2 to stack 1, they retain their order as well:\n",
    "\n",
    "        [D]\n",
    "        [N]\n",
    "[C]     [Z]\n",
    "[M]     [P]\n",
    " 1   2   3\n",
    "Finally, a single crate is still moved from stack 1 to stack 2, but now it's crate C that gets moved:\n",
    "\n",
    "        [D]\n",
    "        [N]\n",
    "        [Z]\n",
    "[M] [C] [P]\n",
    " 1   2   3\n",
    "In this example, the CrateMover 9001 has put the crates in a totally different order: MCD.\n",
    "\n",
    "Before the rearrangement process finishes, update your simulation so that the Elves know where they should stand to be ready to unload the final supplies. After the rearrangement procedure completes, what crate ends up on top of each stack?\n",
    "\n"
   ]
  },
  {
   "cell_type": "code",
   "execution_count": 6,
   "id": "bc02da4c-9d25-4b22-906b-16298812ed77",
   "metadata": {},
   "outputs": [],
   "source": [
    "stacks = [get_stack(current_stack,i) for i in range(1,10)]\n",
    "\n",
    "for instruction in instructions:\n",
    "    ins = instruction.split(' ')\n",
    "    num_to_move = int(ins[1])\n",
    "    from_stack = int(ins[3])\n",
    "    to_stack = int(ins[5])\n",
    "\n",
    "    stacks[to_stack-1] += stacks[from_stack-1][-num_to_move:]\n",
    "    stacks[from_stack-1]= stacks[from_stack-1][:-num_to_move]"
   ]
  },
  {
   "cell_type": "code",
   "execution_count": 7,
   "id": "2d3903fb-8247-45ef-a536-3365f98ddbef",
   "metadata": {},
   "outputs": [
    {
     "data": {
      "text/plain": [
       "'GSLCMFBRP'"
      ]
     },
     "execution_count": 7,
     "metadata": {},
     "output_type": "execute_result"
    }
   ],
   "source": [
    "b = ''\n",
    "for stack in stacks:\n",
    "    b += stack[-1]\n",
    "b"
   ]
  }
 ],
 "metadata": {
  "kernelspec": {
   "display_name": "Python 3 (ipykernel)",
   "language": "python",
   "name": "python3"
  },
  "language_info": {
   "codemirror_mode": {
    "name": "ipython",
    "version": 3
   },
   "file_extension": ".py",
   "mimetype": "text/x-python",
   "name": "python",
   "nbconvert_exporter": "python",
   "pygments_lexer": "ipython3",
   "version": "3.9.13"
  }
 },
 "nbformat": 4,
 "nbformat_minor": 5
}
