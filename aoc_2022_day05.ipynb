{
 "cells": [
  {
   "cell_type": "markdown",
   "id": "10efb4bb-213a-43d7-bceb-4dfb549b7754",
   "metadata": {
    "tags": []
   },
   "source": [
    "# Day 5: Supply Stacks <a name=\"day5\"></a>"
   ]
  },
  {
   "cell_type": "markdown",
   "id": "e95ea3fe-ce65-4773-abac-d27e5938c55a",
   "metadata": {
    "tags": []
   },
   "source": [
    "The expedition can depart as soon as the final supplies have been unloaded from the ships. Supplies are stored in stacks of marked crates, but because the needed supplies are buried under many other crates, the crates need to be rearranged.\n",
    "\n",
    "The ship has a giant cargo crane capable of moving crates between stacks. To ensure none of the crates get crushed or fall over, the crane operator will rearrange them in a series of carefully-planned steps. After the crates are rearranged, the desired crates will be at the top of each stack.\n",
    "\n",
    "The Elves don't want to interrupt the crane operator during this delicate procedure, but they forgot to ask her which crate will end up where, and they want to be ready to unload them as soon as possible so they can embark.\n",
    "\n",
    "They do, however, have a drawing of the starting stacks of crates and the rearrangement procedure (your puzzle input). For example:\n",
    "\n",
    "    [D]    \n",
    "[N] [C]    \n",
    "[Z] [M] [P]\n",
    " 1   2   3 \n",
    "\n",
    "move 1 from 2 to 1\n",
    "move 3 from 1 to 3\n",
    "move 2 from 2 to 1\n",
    "move 1 from 1 to 2\n",
    "In this example, there are three stacks of crates. Stack 1 contains two crates: crate Z is on the bottom, and crate N is on top. Stack 2 contains three crates; from bottom to top, they are crates M, C, and D. Finally, stack 3 contains a single crate, P.\n",
    "\n",
    "Then, the rearrangement procedure is given. In each step of the procedure, a quantity of crates is moved from one stack to a different stack. In the first step of the above rearrangement procedure, one crate is moved from stack 2 to stack 1, resulting in this configuration:\n",
    "\n",
    "[D]        \n",
    "[N] [C]    \n",
    "[Z] [M] [P]\n",
    " 1   2   3 \n",
    "In the second step, three crates are moved from stack 1 to stack 3. Crates are moved one at a time, so the first crate to be moved (D) ends up below the second and third crates:\n",
    "\n",
    "        [Z]\n",
    "        [N]\n",
    "    [C] [D]\n",
    "    [M] [P]\n",
    " 1   2   3\n",
    "Then, both crates are moved from stack 2 to stack 1. Again, because crates are moved one at a time, crate C ends up below crate M:\n",
    "\n",
    "        [Z]\n",
    "        [N]\n",
    "[M]     [D]\n",
    "[C]     [P]\n",
    " 1   2   3\n",
    "Finally, one crate is moved from stack 1 to stack 2:\n",
    "\n",
    "        [Z]\n",
    "        [N]\n",
    "        [D]\n",
    "[C] [M] [P]\n",
    " 1   2   3\n",
    "The Elves just need to know which crate will end up on top of each stack; in this example, the top crates are C in stack 1, M in stack 2, and Z in stack 3, so you should combine these together and give the Elves the message CMZ.\n",
    "\n",
    "After the rearrangement procedure completes, what crate ends up on top of each stack?"
   ]
  },
  {
   "cell_type": "code",
   "execution_count": 1,
   "id": "709cd0de-7b63-4ede-94b4-1db6c9ec3cd8",
   "metadata": {},
   "outputs": [
    {
     "data": {
      "text/plain": [
       "['    [C]             [L]         [T]',\n",
       " '    [V] [R] [M]     [T]         [B]',\n",
       " '    [F] [G] [H] [Q] [Q]         [H]',\n",
       " '    [W] [L] [P] [V] [M] [V]     [F]',\n",
       " '    [P] [C] [W] [S] [Z] [B] [S] [P]',\n",
       " '[G] [R] [M] [B] [F] [J] [S] [Z] [D]',\n",
       " '[J] [L] [P] [F] [C] [H] [F] [J] [C]',\n",
       " '[Z] [Q] [F] [L] [G] [W] [H] [F] [M]',\n",
       " ' 1   2   3   4   5   6   7   8   9 ']"
      ]
     },
     "execution_count": 1,
     "metadata": {},
     "output_type": "execute_result"
    }
   ],
   "source": [
    "with open('inputs/aoc_day5_input.txt') as f:\n",
    "    lines = f.readlines()\n",
    "current_stack = lines[:lines.index('\\n') ]\n",
    "current_stack = [ stack.replace('\\n','') for stack in current_stack ]\n",
    "\n",
    "instructions = lines[lines.index('\\n')+1:]\n",
    "instructions = [ i.strip() for i in instructions]\n",
    "current_stack"
   ]
  },
  {
   "cell_type": "code",
   "execution_count": 2,
   "id": "779ad4bd-3ddd-42e6-a295-1e5eb152dc69",
   "metadata": {},
   "outputs": [],
   "source": [
    "def get_stack(all_stacks, stack_num):\n",
    "    rev = list(reversed(all_stacks))[1::]\n",
    "    stack = []\n",
    "    for line in rev:\n",
    "        index = 4*(stack_num-1) +1\n",
    "        if index<len(line) and line[index] != ' ':\n",
    "            stack.append(line[index])\n",
    "    return stack"
   ]
  },
  {
   "cell_type": "code",
   "execution_count": 3,
   "id": "1f775f2e-4bf9-4a66-9358-2e19395d061b",
   "metadata": {},
   "outputs": [
    {
     "data": {
      "text/plain": [
       "[['Z', 'J', 'G'],\n",
       " ['Q', 'L', 'R', 'P', 'W', 'F', 'V', 'C'],\n",
       " ['F', 'P', 'M', 'C', 'L', 'G', 'R'],\n",
       " ['L', 'F', 'B', 'W', 'P', 'H', 'M'],\n",
       " ['G', 'C', 'F', 'S', 'V', 'Q'],\n",
       " ['W', 'H', 'J', 'Z', 'M', 'Q', 'T', 'L'],\n",
       " ['H', 'F', 'S', 'B', 'V'],\n",
       " ['F', 'J', 'Z', 'S'],\n",
       " ['M', 'C', 'D', 'P', 'F', 'H', 'B', 'T']]"
      ]
     },
     "execution_count": 3,
     "metadata": {},
     "output_type": "execute_result"
    }
   ],
   "source": [
    "stacks = [get_stack(current_stack,i) for i in range(1,10)]\n",
    "stacks"
   ]
  },
  {
   "cell_type": "code",
   "execution_count": 4,
   "id": "48e5779f-182d-49a1-9fc2-740809eeaeef",
   "metadata": {
    "tags": []
   },
   "outputs": [
    {
     "name": "stdout",
     "output_type": "stream",
     "text": [
      "[['W'],\n",
      " ['S'],\n",
      " ['H', 'V', 'R', 'D', 'J', 'F'],\n",
      " ['S', 'T'],\n",
      " ['F', 'W', 'M'],\n",
      " ['C', 'V', 'V', 'S', 'L', 'L', 'M', 'L', 'M', 'R'],\n",
      " ['F',\n",
      "  'G',\n",
      "  'G',\n",
      "  'J',\n",
      "  'P',\n",
      "  'F',\n",
      "  'B',\n",
      "  'H',\n",
      "  'B',\n",
      "  'Q',\n",
      "  'B',\n",
      "  'L',\n",
      "  'Z',\n",
      "  'C',\n",
      "  'P',\n",
      "  'G',\n",
      "  'F',\n",
      "  'J',\n",
      "  'F',\n",
      "  'H'],\n",
      " ['C', 'F', 'M', 'H', 'T', 'Q', 'Z', 'Q', 'C', 'P'],\n",
      " ['Z', 'W', 'P']]\n"
     ]
    }
   ],
   "source": [
    "from pprint import pprint\n",
    "for instruction in instructions:\n",
    "    ins = instruction.split(' ')\n",
    "    num_to_move = int(ins[1])\n",
    "    from_stack = int(ins[3])\n",
    "    to_stack = int(ins[5])\n",
    "    for moves in range(1,num_to_move+1):\n",
    "        try:\n",
    "            stacks[to_stack-1].append(stacks[from_stack-1].pop())\n",
    "        except:\n",
    "            pass\n",
    "pprint(stacks)"
   ]
  },
  {
   "cell_type": "code",
   "execution_count": 5,
   "id": "733ddb68-5ac2-4678-a063-02c925455f80",
   "metadata": {},
   "outputs": [
    {
     "data": {
      "text/plain": [
       "'WSFTMRHPP'"
      ]
     },
     "execution_count": 5,
     "metadata": {},
     "output_type": "execute_result"
    }
   ],
   "source": [
    "b = ''\n",
    "for stack in stacks:\n",
    "    b += stack[-1]\n",
    "b"
   ]
  },
  {
   "cell_type": "markdown",
   "id": "52e4a6b4-9e6b-4772-abf3-dfd4b385c730",
   "metadata": {
    "tags": []
   },
   "source": [
    "### --- Part Two ---\n",
    "As you watch the crane operator expertly rearrange the crates, you notice the process isn't following your prediction.\n",
    "\n",
    "Some mud was covering the writing on the side of the crane, and you quickly wipe it away. The crane isn't a CrateMover 9000 - it's a CrateMover 9001.\n",
    "\n",
    "The CrateMover 9001 is notable for many new and exciting features: air conditioning, leather seats, an extra cup holder, and the ability to pick up and move multiple crates at once.\n",
    "\n",
    "Again considering the example above, the crates begin in the same configuration:\n",
    "\n",
    "    [D]    \n",
    "\\[N] \\[C]    \n",
    "\\[Z] \\[M] \\[P]\n",
    " 1   2   3 \n",
    "Moving a single crate from stack 2 to stack 1 behaves the same as before:\n",
    "\n",
    "[D]        \n",
    "[N] [C]    \n",
    "[Z] [M] [P]\n",
    " 1   2   3 \n",
    "However, the action of moving three crates from stack 1 to stack 3 means that those three moved crates stay in the same order, resulting in this new configuration:\n",
    "\n",
    "        [D]\n",
    "        [N]\n",
    "    [C] [Z]\n",
    "    [M] [P]\n",
    " 1   2   3\n",
    "Next, as both crates are moved from stack 2 to stack 1, they retain their order as well:\n",
    "\n",
    "        [D]\n",
    "        [N]\n",
    "[C]     [Z]\n",
    "[M]     [P]\n",
    " 1   2   3\n",
    "Finally, a single crate is still moved from stack 1 to stack 2, but now it's crate C that gets moved:\n",
    "\n",
    "        [D]\n",
    "        [N]\n",
    "        [Z]\n",
    "[M] [C] [P]\n",
    " 1   2   3\n",
    "In this example, the CrateMover 9001 has put the crates in a totally different order: MCD.\n",
    "\n",
    "Before the rearrangement process finishes, update your simulation so that the Elves know where they should stand to be ready to unload the final supplies. After the rearrangement procedure completes, what crate ends up on top of each stack?\n",
    "\n"
   ]
  },
  {
   "cell_type": "code",
   "execution_count": 6,
   "id": "bc02da4c-9d25-4b22-906b-16298812ed77",
   "metadata": {},
   "outputs": [],
   "source": [
    "stacks = [get_stack(current_stack,i) for i in range(1,10)]\n",
    "\n",
    "for instruction in instructions:\n",
    "    ins = instruction.split(' ')\n",
    "    num_to_move = int(ins[1])\n",
    "    from_stack = int(ins[3])\n",
    "    to_stack = int(ins[5])\n",
    "\n",
    "    stacks[to_stack-1] += stacks[from_stack-1][-num_to_move:]\n",
    "    stacks[from_stack-1]= stacks[from_stack-1][:-num_to_move]"
   ]
  },
  {
   "cell_type": "code",
   "execution_count": 7,
   "id": "2d3903fb-8247-45ef-a536-3365f98ddbef",
   "metadata": {},
   "outputs": [
    {
     "data": {
      "text/plain": [
       "'GSLCMFBRP'"
      ]
     },
     "execution_count": 7,
     "metadata": {},
     "output_type": "execute_result"
    }
   ],
   "source": [
    "b = ''\n",
    "for stack in stacks:\n",
    "    b += stack[-1]\n",
    "b"
   ]
  }
 ],
 "metadata": {
  "kernelspec": {
   "display_name": "Python 3 (ipykernel)",
   "language": "python",
   "name": "python3"
  },
  "language_info": {
   "codemirror_mode": {
    "name": "ipython",
    "version": 3
   },
   "file_extension": ".py",
   "mimetype": "text/x-python",
   "name": "python",
   "nbconvert_exporter": "python",
   "pygments_lexer": "ipython3",
   "version": "3.9.13"
  }
 },
 "nbformat": 4,
 "nbformat_minor": 5
}
