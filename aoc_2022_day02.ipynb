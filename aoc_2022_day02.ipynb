{
 "cells": [
  {
   "cell_type": "markdown",
   "id": "0634c7f6-24cd-4385-a0a7-2dbff1d3ef09",
   "metadata": {
    "tags": []
   },
   "source": [
    "# Day 2: Rock Paper Scissors <a name=\"day2\"></a>"
   ]
  },
  {
   "cell_type": "markdown",
   "id": "1fb4fdfa-7cfb-4e0f-bf58-dbf40f97bb41",
   "metadata": {
    "tags": []
   },
   "source": [
    "The Elves begin to set up camp on the beach. To decide whose tent gets to be closest to the snack storage, a giant Rock Paper Scissors tournament is already in progress.\n",
    "\n",
    "Rock Paper Scissors is a game between two players. Each game contains many rounds; in each round, the players each simultaneously choose one of Rock, Paper, or Scissors using a hand shape. Then, a winner for that round is selected: Rock defeats Scissors, Scissors defeats Paper, and Paper defeats Rock. If both players choose the same shape, the round instead ends in a draw.\n",
    "\n",
    "Appreciative of your help yesterday, one Elf gives you an encrypted strategy guide (your puzzle input) that they say will be sure to help you win. \"The first column is what your opponent is going to play: A for Rock, B for Paper, and C for Scissors. The second column--\" Suddenly, the Elf is called away to help with someone's tent.\n",
    "\n",
    "The second column, you reason, must be what you should play in response: X for Rock, Y for Paper, and Z for Scissors. Winning every time would be suspicious, so the responses must have been carefully chosen.\n",
    "\n",
    "The winner of the whole tournament is the player with the highest score. Your total score is the sum of your scores for each round. The score for a single round is the score for the shape you selected (1 for Rock, 2 for Paper, and 3 for Scissors) plus the score for the outcome of the round (0 if you lost, 3 if the round was a draw, and 6 if you won).\n",
    "\n",
    "Since you can't be sure if the Elf is trying to help you or trick you, you should calculate the score you would get if you were to follow the strategy guide.\n",
    "\n",
    "For example, suppose you were given the following strategy guide:\n",
    "\n",
    "A Y\n",
    "B X\n",
    "C Z\n",
    "This strategy guide predicts and recommends the following:\n",
    "\n",
    "In the first round, your opponent will choose Rock (A), and you should choose Paper (Y). This ends in a win for you with a score of 8 (2 because you chose Paper + 6 because you won).\n",
    "In the second round, your opponent will choose Paper (B), and you should choose Rock (X). This ends in a loss for you with a score of 1 (1 + 0).\n",
    "The third round is a draw with both players choosing Scissors, giving you a score of 3 + 3 = 6.\n",
    "In this example, if you were to follow the strategy guide, you would get a total score of 15 (8 + 1 + 6).\n",
    "\n",
    "What would your total score be if everything goes exactly according to your strategy guide?"
   ]
  },
  {
   "cell_type": "code",
   "execution_count": 2,
   "id": "57985e28-ec0d-4692-9d73-5aa900b3ae93",
   "metadata": {},
   "outputs": [
    {
     "data": {
      "text/plain": [
       "13565"
      ]
     },
     "execution_count": 2,
     "metadata": {},
     "output_type": "execute_result"
    }
   ],
   "source": [
    "#A for Rock, B for Paper, and C for Scissors\n",
    "#shape you selected (1 for Rock, 2 for Paper, and 3 for Scissors) plus the score for the outcome of the round (0 if you lost, 3 if the round was a draw, and 6 if you won).\n",
    "\n",
    "with open('inputs/aoc_day2_input.txt') as f:\n",
    "    lines = [ line. strip() for line in f ]\n",
    "\n",
    "opponent_total = 0\n",
    "me_total = 0\n",
    "for index, value in enumerate(lines):\n",
    "    opponent = value[0]\n",
    "    me = value[-1]\n",
    "    if opponent == 'A' and me == 'X':\n",
    "        round_score_opponent = 1 + 3\n",
    "        round_score_me = 1 + 3\n",
    "    elif opponent == 'A' and me == 'Y':\n",
    "        round_score_opponent = 1 + 0\n",
    "        round_score_me = 2 + 6\n",
    "    elif opponent == 'A' and me == 'Z':\n",
    "        round_score_opponent = 1 + 6\n",
    "        round_score_me = 3 + 0\n",
    "    elif opponent == 'B' and me == 'X':\n",
    "        round_score_opponent = 2 + 6\n",
    "        round_score_me = 1 + 0\n",
    "    elif opponent == 'B' and me == 'Y':\n",
    "        round_score_opponent = 2 + 3\n",
    "        round_score_me = 2 + 3\n",
    "    elif opponent == 'B' and me == 'Z':\n",
    "        round_score_opponent = 2 + 0\n",
    "        round_score_me = 3 + 6    \n",
    "    elif opponent == 'C' and me == 'X':\n",
    "        round_score_opponent = 3 + 0\n",
    "        round_score_me = 1 + 6\n",
    "    elif opponent == 'C' and me == 'Y':\n",
    "        round_score_opponent = 3 + 6\n",
    "        round_score_me = 2 + 0\n",
    "    elif opponent == 'C' and me == 'Z':\n",
    "        round_score_opponent = 3 + 3\n",
    "        round_score_me = 3 + 3 \n",
    "    opponent_total += round_score_opponent\n",
    "    me_total += round_score_me\n",
    "me_total"
   ]
  },
  {
   "cell_type": "markdown",
   "id": "8faf9a31-8823-4460-ac59-53cf2c5bfca1",
   "metadata": {
    "tags": []
   },
   "source": [
    "### --- Part Two ---\n",
    "The Elf finishes helping with the tent and sneaks back over to you. \"Anyway, the second column says how the round needs to end: X means you need to lose, Y means you need to end the round in a draw, and Z means you need to win. Good luck!\"\n",
    "\n",
    "The total score is still calculated in the same way, but now you need to figure out what shape to choose so the round ends as indicated. The example above now goes like this:\n",
    "\n",
    "In the first round, your opponent will choose Rock (A), and you need the round to end in a draw (Y), so you also choose Rock. This gives you a score of 1 + 3 = 4.\n",
    "In the second round, your opponent will choose Paper (B), and you choose Rock so you lose (X) with a score of 1 + 0 = 1.\n",
    "In the third round, you will defeat your opponent's Scissors with Rock for a score of 1 + 6 = 7.\n",
    "Now that you're correctly decrypting the ultra top secret strategy guide, you would get a total score of 12.\n",
    "\n",
    "Following the Elf's instructions for the second column, what would your total score be if everything goes exactly according to your strategy guide?"
   ]
  },
  {
   "cell_type": "code",
   "execution_count": 3,
   "id": "961408b4-cbeb-4b92-90ce-81dfd5d12c6d",
   "metadata": {},
   "outputs": [
    {
     "data": {
      "text/plain": [
       "12424"
      ]
     },
     "execution_count": 3,
     "metadata": {},
     "output_type": "execute_result"
    }
   ],
   "source": [
    " #X means you need to lose, Y means you need to end the round in a draw, and Z means you need to win. Good luck!\"\n",
    "    \n",
    "opponent_total = 0\n",
    "me_total = 0\n",
    "for index, value in enumerate(lines):\n",
    "    opponent = value[0]\n",
    "    me = value[-1]\n",
    "    if opponent == 'A' and me == 'Y':\n",
    "        round_score_opponent = 1 + 3\n",
    "        round_score_me = 1 + 3\n",
    "    elif opponent == 'A' and me == 'Z':\n",
    "        round_score_opponent = 1 + 0\n",
    "        round_score_me = 2 + 6\n",
    "    elif opponent == 'A' and me == 'X':\n",
    "        round_score_opponent = 1 + 6\n",
    "        round_score_me = 3 + 0\n",
    "    elif opponent == 'B' and me == 'X':\n",
    "        round_score_opponent = 2 + 6\n",
    "        round_score_me = 1 + 0\n",
    "    elif opponent == 'B' and me == 'Y':\n",
    "        round_score_opponent = 2 + 3\n",
    "        round_score_me = 2 + 3\n",
    "    elif opponent == 'B' and me == 'Z':\n",
    "        round_score_opponent = 2 + 0\n",
    "        round_score_me = 3 + 6    \n",
    "    elif opponent == 'C' and me == 'Z':\n",
    "        round_score_opponent = 3 + 0\n",
    "        round_score_me = 1 + 6\n",
    "    elif opponent == 'C' and me == 'X':\n",
    "        round_score_opponent = 3 + 6\n",
    "        round_score_me = 2 + 0\n",
    "    elif opponent == 'C' and me == 'Y':\n",
    "        round_score_opponent = 3 + 3\n",
    "        round_score_me = 3 + 3 \n",
    "    opponent_total += round_score_opponent\n",
    "    me_total += round_score_me   \n",
    "me_total"
   ]
  }
 ],
 "metadata": {
  "kernelspec": {
   "display_name": "Python 3 (ipykernel)",
   "language": "python",
   "name": "python3"
  },
  "language_info": {
   "codemirror_mode": {
    "name": "ipython",
    "version": 3
   },
   "file_extension": ".py",
   "mimetype": "text/x-python",
   "name": "python",
   "nbconvert_exporter": "python",
   "pygments_lexer": "ipython3",
   "version": "3.9.13"
  }
 },
 "nbformat": 4,
 "nbformat_minor": 5
}
